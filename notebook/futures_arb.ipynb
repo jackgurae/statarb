{
 "cells": [
  {
   "cell_type": "code",
   "execution_count": 1,
   "metadata": {},
   "outputs": [],
   "source": [
    "import pandas as pd\n",
    "import numpy as np"
   ]
  },
  {
   "cell_type": "code",
   "execution_count": null,
   "metadata": {},
   "outputs": [],
   "source": [
    "# create futures arbitrages using cost and carry model\n",
    "# cost and carry model: https://www.investopedia.com/terms/c/costandcarry.asp\n",
    "\n",
    "# load data\n",
    "df = pd.read_csv('data/df.csv', index_col=0)\n",
    "df.index = pd.to_datetime(df.index)\n",
    "\n",
    "# parameters for cost and carry model\n",
    "\n",
    "r = 0.01 # risk free rate\n",
    "T = 1 # time to maturity\n",
    "F = 100 # futures price\n",
    "S = 100 # spot price\n",
    "q = 0.01 # dividend yield\n",
    "b = r - q # cost of carry\n",
    "\n",
    "# calculate futures price using cost and carry model\n",
    "F_cc = S * np.exp(b * T)\n",
    "\n",
    "# find arbitrage opportunities\n",
    "df['F_cc'] = F_cc\n",
    "df['arb'] = df['F'] - df['F_cc']\n",
    "\n",
    "# plot arbitrage opportunities and signal\n",
    "df['arb'].plot(figsize=(15, 5), title='Arbitrage Opportunities')\n",
    "df['signal'] = np.where(df['arb'] > 0, 1, 0)\n",
    "df['signal'].plot(secondary_y=True, style='g')\n"
   ]
  }
 ],
 "metadata": {
  "kernelspec": {
   "display_name": "arbitrage",
   "language": "python",
   "name": "python3"
  },
  "language_info": {
   "codemirror_mode": {
    "name": "ipython",
    "version": 3
   },
   "file_extension": ".py",
   "mimetype": "text/x-python",
   "name": "python",
   "nbconvert_exporter": "python",
   "pygments_lexer": "ipython3",
   "version": "3.11.4"
  },
  "orig_nbformat": 4
 },
 "nbformat": 4,
 "nbformat_minor": 2
}
